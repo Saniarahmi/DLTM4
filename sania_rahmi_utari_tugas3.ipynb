{
  "nbformat": 4,
  "nbformat_minor": 0,
  "metadata": {
    "colab": {
      "provenance": [],
      "gpuType": "T4",
      "include_colab_link": true
    },
    "kernelspec": {
      "name": "python3",
      "display_name": "Python 3"
    },
    "language_info": {
      "name": "python"
    },
    "accelerator": "GPU"
  },
  "cells": [
    {
      "cell_type": "markdown",
      "metadata": {
        "id": "view-in-github",
        "colab_type": "text"
      },
      "source": [
        "<a href=\"https://colab.research.google.com/github/Saniarahmi/DLTM4/blob/main/sania_rahmi_utari_tugas3.ipynb\" target=\"_parent\"><img src=\"https://colab.research.google.com/assets/colab-badge.svg\" alt=\"Open In Colab\"/></a>"
      ]
    },
    {
      "cell_type": "code",
      "execution_count": null,
      "metadata": {
        "colab": {
          "base_uri": "https://localhost:8080/"
        },
        "id": "LJpGo_DUAK2j",
        "outputId": "6d5d71d2-1f58-4305-d6b6-a3b59ca4f9c8"
      },
      "outputs": [
        {
          "output_type": "stream",
          "name": "stdout",
          "text": [
            "Mounted at /content/drive/\n"
          ]
        }
      ],
      "source": [
        "from google.colab import drive\n",
        "import os\n",
        "drive.mount('/content/drive/')"
      ]
    },
    {
      "cell_type": "code",
      "source": [
        "import numpy as np\n",
        "import pandas as pd\n",
        "import seaborn as sns\n",
        "import tensorflow as tf\n",
        "from tensorflow.keras.utils import to_categorical\n",
        "import os\n",
        "import cv2\n",
        "import matplotlib.pyplot as plt\n",
        "\n",
        "def extract_label(img_path, train=True):\n",
        "    filename, _ = os.path.splitext(os.path.basename(img_path))\n",
        "    subject_id, etc = filename.split('__')\n",
        "    if train:\n",
        "        gender, lr, finger, _, _ = etc.split('_')\n",
        "    else:\n",
        "        gender, lr, finger, _ = etc.split('_')\n",
        "    gender = 0 if gender == 'M' else 1\n",
        "    lr = 0 if lr == 'Left' else 1\n",
        "    if finger == 'thumb':\n",
        "        finger = 0\n",
        "    elif finger == 'index':\n",
        "        finger = 1\n",
        "    elif finger == 'middle':\n",
        "        finger = 2\n",
        "    elif finger == 'ring':\n",
        "        finger = 3\n",
        "    elif finger == 'little':\n",
        "        finger = 4\n",
        "    return np.array([gender], dtype=np.uint16)\n",
        "\n",
        "def loading_data(path, train):\n",
        "    print(\"loading data from: \", path)\n",
        "    data = []\n",
        "    for img in os.listdir(path):\n",
        "        try:\n",
        "            img_array = cv2.imread(os.path.join(path, img), cv2.IMREAD_GRAYSCALE)\n",
        "            img_resize = cv2.resize(img_array, (96, 96))\n",
        "            label = extract_label(os.path.join(path, img), train)\n",
        "            data.append([label, img_resize])\n",
        "        except Exception as e:\n",
        "            pass\n",
        "    return data\n",
        "\n",
        "Real_path = \"/content/drive/My Drive/SOCOFing/Real\"\n",
        "Easy_path = \"/content/drive/My Drive/SOCOFing/Altered/Altered-Easy\"\n",
        "Medium_path = \"/content/drive/My Drive/SOCOFing/Altered/Altered-Medium\"\n",
        "Hard_path = \"/content/drive/My Drive/SOCOFing/Altered/Altered-Hard\"\n",
        "\n",
        "Easy_data = loading_data(Easy_path, train=True)\n",
        "Medium_data = loading_data(Medium_path, train=True)\n",
        "Hard_data = loading_data(Hard_path, train=True)\n",
        "test = loading_data(Real_path, train=False)\n",
        "\n",
        "# Flatten and preprocess data\n",
        "def preprocess(data):\n",
        "    X, y = [], []\n",
        "    for item in data:\n",
        "        X.append(item[1])\n",
        "        y.append(item[0])\n",
        "    X = np.array(X).reshape(-1, 96, 96, 1) / 255.0\n",
        "    y = to_categorical(y, num_classes=2)\n",
        "    return X, y\n",
        "\n",
        "X_easy, y_easy = preprocess(Easy_data)\n",
        "X_medium, y_medium = preprocess(Medium_data)\n",
        "X_hard, y_hard = preprocess(Hard_data)\n",
        "X_test, y_test = preprocess(test)\n",
        "\n",
        "# Combine data\n",
        "X_train = np.concatenate((X_easy, X_medium, X_hard), axis=0)\n",
        "y_train = np.concatenate((y_easy, y_medium, y_hard), axis=0)\n"
      ],
      "metadata": {
        "colab": {
          "base_uri": "https://localhost:8080/"
        },
        "id": "A58Zc24xAL_W",
        "outputId": "44dc36a1-4fa6-4378-e105-62de52095c0b"
      },
      "execution_count": null,
      "outputs": [
        {
          "output_type": "stream",
          "name": "stdout",
          "text": [
            "loading data from:  /content/drive/My Drive/SOCOFing/Altered/Altered-Easy\n",
            "loading data from:  /content/drive/My Drive/SOCOFing/Altered/Altered-Medium\n",
            "loading data from:  /content/drive/My Drive/SOCOFing/Altered/Altered-Hard\n",
            "loading data from:  /content/drive/My Drive/SOCOFing/Real\n"
          ]
        }
      ]
    },
    {
      "cell_type": "code",
      "source": [
        "model = tf.keras.Sequential([\n",
        "    tf.keras.layers.Conv2D(32, 3, padding='same', activation='relu', input_shape=(96, 96, 1)),\n",
        "    tf.keras.layers.MaxPooling2D(),\n",
        "    tf.keras.layers.Conv2D(64, 3, padding='same', activation='relu'),\n",
        "    tf.keras.layers.MaxPooling2D(),\n",
        "    tf.keras.layers.Conv2D(128, 3, padding='same', activation='relu'),\n",
        "    tf.keras.layers.MaxPooling2D(),\n",
        "    tf.keras.layers.Flatten(),\n",
        "    tf.keras.layers.Dense(256, activation='relu'),\n",
        "    tf.keras.layers.Dense(2, activation='softmax')\n",
        "])\n",
        "\n",
        "# Compile the model\n",
        "model.compile(optimizer='adam', loss='categorical_crossentropy', metrics=['accuracy'])\n",
        "\n",
        "# Train the model\n",
        "history = model.fit(X_train, y_train, batch_size=16, epochs=100, validation_split=0.2)\n",
        "\n",
        "# Evaluate the model on test data\n",
        "model.evaluate(X_test, y_test)\n"
      ],
      "metadata": {
        "colab": {
          "base_uri": "https://localhost:8080/"
        },
        "id": "nzUDCB6TBvlY",
        "outputId": "0396378f-1c2f-4b9f-938d-f19dd384cd1f"
      },
      "execution_count": null,
      "outputs": [
        {
          "output_type": "stream",
          "name": "stdout",
          "text": [
            "Epoch 1/100\n",
            "15/15 [==============================] - 2s 37ms/step - loss: 0.7503 - accuracy: 0.5125 - val_loss: 0.6849 - val_accuracy: 0.7500\n",
            "Epoch 2/100\n",
            "15/15 [==============================] - 0s 11ms/step - loss: 0.6942 - accuracy: 0.5875 - val_loss: 0.5654 - val_accuracy: 0.7167\n",
            "Epoch 3/100\n",
            "15/15 [==============================] - 0s 9ms/step - loss: 0.6466 - accuracy: 0.6167 - val_loss: 0.6119 - val_accuracy: 0.6000\n",
            "Epoch 4/100\n",
            "15/15 [==============================] - 0s 10ms/step - loss: 0.4964 - accuracy: 0.7458 - val_loss: 0.4017 - val_accuracy: 0.8833\n",
            "Epoch 5/100\n",
            "15/15 [==============================] - 0s 10ms/step - loss: 0.3143 - accuracy: 0.8750 - val_loss: 0.3351 - val_accuracy: 0.8667\n",
            "Epoch 6/100\n",
            "15/15 [==============================] - 0s 9ms/step - loss: 0.2011 - accuracy: 0.9292 - val_loss: 0.5709 - val_accuracy: 0.7167\n",
            "Epoch 7/100\n",
            "15/15 [==============================] - 0s 10ms/step - loss: 0.1837 - accuracy: 0.9375 - val_loss: 0.2898 - val_accuracy: 0.9000\n",
            "Epoch 8/100\n",
            "15/15 [==============================] - 0s 9ms/step - loss: 0.0778 - accuracy: 0.9792 - val_loss: 0.2365 - val_accuracy: 0.9500\n",
            "Epoch 9/100\n",
            "15/15 [==============================] - 0s 9ms/step - loss: 0.0482 - accuracy: 0.9875 - val_loss: 0.2352 - val_accuracy: 0.9500\n",
            "Epoch 10/100\n",
            "15/15 [==============================] - 0s 9ms/step - loss: 0.0261 - accuracy: 0.9958 - val_loss: 0.2263 - val_accuracy: 0.9500\n",
            "Epoch 11/100\n",
            "15/15 [==============================] - 0s 10ms/step - loss: 0.0201 - accuracy: 0.9958 - val_loss: 0.2613 - val_accuracy: 0.9500\n",
            "Epoch 12/100\n",
            "15/15 [==============================] - 0s 9ms/step - loss: 0.0114 - accuracy: 1.0000 - val_loss: 0.2994 - val_accuracy: 0.9333\n",
            "Epoch 13/100\n",
            "15/15 [==============================] - 0s 9ms/step - loss: 0.0043 - accuracy: 1.0000 - val_loss: 0.2983 - val_accuracy: 0.9500\n",
            "Epoch 14/100\n",
            "15/15 [==============================] - 0s 9ms/step - loss: 0.0027 - accuracy: 1.0000 - val_loss: 0.2844 - val_accuracy: 0.9500\n",
            "Epoch 15/100\n",
            "15/15 [==============================] - 0s 10ms/step - loss: 0.0019 - accuracy: 1.0000 - val_loss: 0.3396 - val_accuracy: 0.9500\n",
            "Epoch 16/100\n",
            "15/15 [==============================] - 0s 10ms/step - loss: 0.0014 - accuracy: 1.0000 - val_loss: 0.3258 - val_accuracy: 0.9500\n",
            "Epoch 17/100\n",
            "15/15 [==============================] - 0s 9ms/step - loss: 0.0011 - accuracy: 1.0000 - val_loss: 0.3505 - val_accuracy: 0.9500\n",
            "Epoch 18/100\n",
            "15/15 [==============================] - 0s 9ms/step - loss: 9.4947e-04 - accuracy: 1.0000 - val_loss: 0.3485 - val_accuracy: 0.9500\n",
            "Epoch 19/100\n",
            "15/15 [==============================] - 0s 10ms/step - loss: 7.9242e-04 - accuracy: 1.0000 - val_loss: 0.3646 - val_accuracy: 0.9500\n",
            "Epoch 20/100\n",
            "15/15 [==============================] - 0s 10ms/step - loss: 6.1598e-04 - accuracy: 1.0000 - val_loss: 0.3795 - val_accuracy: 0.9500\n",
            "Epoch 21/100\n",
            "15/15 [==============================] - 0s 10ms/step - loss: 4.4353e-04 - accuracy: 1.0000 - val_loss: 0.3766 - val_accuracy: 0.9500\n",
            "Epoch 22/100\n",
            "15/15 [==============================] - 0s 9ms/step - loss: 3.8530e-04 - accuracy: 1.0000 - val_loss: 0.3939 - val_accuracy: 0.9500\n",
            "Epoch 23/100\n",
            "15/15 [==============================] - 0s 10ms/step - loss: 3.4586e-04 - accuracy: 1.0000 - val_loss: 0.4006 - val_accuracy: 0.9500\n",
            "Epoch 24/100\n",
            "15/15 [==============================] - 0s 9ms/step - loss: 3.0623e-04 - accuracy: 1.0000 - val_loss: 0.4066 - val_accuracy: 0.9500\n",
            "Epoch 25/100\n",
            "15/15 [==============================] - 0s 10ms/step - loss: 2.7574e-04 - accuracy: 1.0000 - val_loss: 0.4063 - val_accuracy: 0.9500\n",
            "Epoch 26/100\n",
            "15/15 [==============================] - 0s 9ms/step - loss: 2.5503e-04 - accuracy: 1.0000 - val_loss: 0.4358 - val_accuracy: 0.9500\n",
            "Epoch 27/100\n",
            "15/15 [==============================] - 0s 9ms/step - loss: 2.1849e-04 - accuracy: 1.0000 - val_loss: 0.4238 - val_accuracy: 0.9500\n",
            "Epoch 28/100\n",
            "15/15 [==============================] - 0s 10ms/step - loss: 2.0173e-04 - accuracy: 1.0000 - val_loss: 0.4265 - val_accuracy: 0.9500\n",
            "Epoch 29/100\n",
            "15/15 [==============================] - 0s 10ms/step - loss: 1.8806e-04 - accuracy: 1.0000 - val_loss: 0.4455 - val_accuracy: 0.9500\n",
            "Epoch 30/100\n",
            "15/15 [==============================] - 0s 9ms/step - loss: 1.7020e-04 - accuracy: 1.0000 - val_loss: 0.4372 - val_accuracy: 0.9500\n",
            "Epoch 31/100\n",
            "15/15 [==============================] - 0s 9ms/step - loss: 1.4871e-04 - accuracy: 1.0000 - val_loss: 0.4578 - val_accuracy: 0.9500\n",
            "Epoch 32/100\n",
            "15/15 [==============================] - 0s 9ms/step - loss: 1.3880e-04 - accuracy: 1.0000 - val_loss: 0.4560 - val_accuracy: 0.9500\n",
            "Epoch 33/100\n",
            "15/15 [==============================] - 0s 10ms/step - loss: 1.2739e-04 - accuracy: 1.0000 - val_loss: 0.4579 - val_accuracy: 0.9500\n",
            "Epoch 34/100\n",
            "15/15 [==============================] - 0s 9ms/step - loss: 1.1815e-04 - accuracy: 1.0000 - val_loss: 0.4687 - val_accuracy: 0.9500\n",
            "Epoch 35/100\n",
            "15/15 [==============================] - 0s 10ms/step - loss: 1.1153e-04 - accuracy: 1.0000 - val_loss: 0.4702 - val_accuracy: 0.9500\n",
            "Epoch 36/100\n",
            "15/15 [==============================] - 0s 9ms/step - loss: 1.0023e-04 - accuracy: 1.0000 - val_loss: 0.4804 - val_accuracy: 0.9500\n",
            "Epoch 37/100\n",
            "15/15 [==============================] - 0s 9ms/step - loss: 9.3958e-05 - accuracy: 1.0000 - val_loss: 0.4737 - val_accuracy: 0.9500\n",
            "Epoch 38/100\n",
            "15/15 [==============================] - 0s 9ms/step - loss: 8.8843e-05 - accuracy: 1.0000 - val_loss: 0.4850 - val_accuracy: 0.9500\n",
            "Epoch 39/100\n",
            "15/15 [==============================] - 0s 10ms/step - loss: 8.1473e-05 - accuracy: 1.0000 - val_loss: 0.4833 - val_accuracy: 0.9500\n",
            "Epoch 40/100\n",
            "15/15 [==============================] - 0s 11ms/step - loss: 7.6241e-05 - accuracy: 1.0000 - val_loss: 0.4939 - val_accuracy: 0.9500\n",
            "Epoch 41/100\n",
            "15/15 [==============================] - 0s 10ms/step - loss: 7.1161e-05 - accuracy: 1.0000 - val_loss: 0.4958 - val_accuracy: 0.9500\n",
            "Epoch 42/100\n",
            "15/15 [==============================] - 0s 10ms/step - loss: 6.7973e-05 - accuracy: 1.0000 - val_loss: 0.4951 - val_accuracy: 0.9500\n",
            "Epoch 43/100\n",
            "15/15 [==============================] - 0s 10ms/step - loss: 6.3465e-05 - accuracy: 1.0000 - val_loss: 0.5024 - val_accuracy: 0.9500\n",
            "Epoch 44/100\n",
            "15/15 [==============================] - 0s 9ms/step - loss: 5.9260e-05 - accuracy: 1.0000 - val_loss: 0.5063 - val_accuracy: 0.9500\n",
            "Epoch 45/100\n",
            "15/15 [==============================] - 0s 10ms/step - loss: 5.5792e-05 - accuracy: 1.0000 - val_loss: 0.5031 - val_accuracy: 0.9500\n",
            "Epoch 46/100\n",
            "15/15 [==============================] - 0s 9ms/step - loss: 5.3111e-05 - accuracy: 1.0000 - val_loss: 0.5097 - val_accuracy: 0.9500\n",
            "Epoch 47/100\n",
            "15/15 [==============================] - 0s 10ms/step - loss: 4.9926e-05 - accuracy: 1.0000 - val_loss: 0.5136 - val_accuracy: 0.9500\n",
            "Epoch 48/100\n",
            "15/15 [==============================] - 0s 10ms/step - loss: 4.7531e-05 - accuracy: 1.0000 - val_loss: 0.5159 - val_accuracy: 0.9500\n",
            "Epoch 49/100\n",
            "15/15 [==============================] - 0s 9ms/step - loss: 4.4181e-05 - accuracy: 1.0000 - val_loss: 0.5246 - val_accuracy: 0.9500\n",
            "Epoch 50/100\n",
            "15/15 [==============================] - 0s 10ms/step - loss: 4.1599e-05 - accuracy: 1.0000 - val_loss: 0.5165 - val_accuracy: 0.9500\n",
            "Epoch 51/100\n",
            "15/15 [==============================] - 0s 10ms/step - loss: 3.9511e-05 - accuracy: 1.0000 - val_loss: 0.5311 - val_accuracy: 0.9500\n",
            "Epoch 52/100\n",
            "15/15 [==============================] - 0s 9ms/step - loss: 3.6989e-05 - accuracy: 1.0000 - val_loss: 0.5294 - val_accuracy: 0.9500\n",
            "Epoch 53/100\n",
            "15/15 [==============================] - 0s 9ms/step - loss: 3.5541e-05 - accuracy: 1.0000 - val_loss: 0.5369 - val_accuracy: 0.9500\n",
            "Epoch 54/100\n",
            "15/15 [==============================] - 0s 9ms/step - loss: 3.3138e-05 - accuracy: 1.0000 - val_loss: 0.5335 - val_accuracy: 0.9500\n",
            "Epoch 55/100\n",
            "15/15 [==============================] - 0s 10ms/step - loss: 3.3123e-05 - accuracy: 1.0000 - val_loss: 0.5436 - val_accuracy: 0.9500\n",
            "Epoch 56/100\n",
            "15/15 [==============================] - 0s 11ms/step - loss: 3.0196e-05 - accuracy: 1.0000 - val_loss: 0.5419 - val_accuracy: 0.9500\n",
            "Epoch 57/100\n",
            "15/15 [==============================] - 0s 11ms/step - loss: 2.8430e-05 - accuracy: 1.0000 - val_loss: 0.5447 - val_accuracy: 0.9500\n",
            "Epoch 58/100\n",
            "15/15 [==============================] - 0s 11ms/step - loss: 2.7327e-05 - accuracy: 1.0000 - val_loss: 0.5427 - val_accuracy: 0.9500\n",
            "Epoch 59/100\n",
            "15/15 [==============================] - 0s 11ms/step - loss: 2.7568e-05 - accuracy: 1.0000 - val_loss: 0.5539 - val_accuracy: 0.9500\n",
            "Epoch 60/100\n",
            "15/15 [==============================] - 0s 11ms/step - loss: 2.5389e-05 - accuracy: 1.0000 - val_loss: 0.5448 - val_accuracy: 0.9500\n",
            "Epoch 61/100\n",
            "15/15 [==============================] - 0s 13ms/step - loss: 2.4853e-05 - accuracy: 1.0000 - val_loss: 0.5635 - val_accuracy: 0.9500\n",
            "Epoch 62/100\n",
            "15/15 [==============================] - 0s 10ms/step - loss: 2.2736e-05 - accuracy: 1.0000 - val_loss: 0.5548 - val_accuracy: 0.9500\n",
            "Epoch 63/100\n",
            "15/15 [==============================] - 0s 11ms/step - loss: 2.1284e-05 - accuracy: 1.0000 - val_loss: 0.5668 - val_accuracy: 0.9500\n",
            "Epoch 64/100\n",
            "15/15 [==============================] - 0s 11ms/step - loss: 2.0529e-05 - accuracy: 1.0000 - val_loss: 0.5681 - val_accuracy: 0.9500\n",
            "Epoch 65/100\n",
            "15/15 [==============================] - 0s 11ms/step - loss: 1.9406e-05 - accuracy: 1.0000 - val_loss: 0.5686 - val_accuracy: 0.9500\n",
            "Epoch 66/100\n",
            "15/15 [==============================] - 0s 15ms/step - loss: 1.8766e-05 - accuracy: 1.0000 - val_loss: 0.5714 - val_accuracy: 0.9500\n",
            "Epoch 67/100\n",
            "15/15 [==============================] - 0s 11ms/step - loss: 1.7827e-05 - accuracy: 1.0000 - val_loss: 0.5749 - val_accuracy: 0.9500\n",
            "Epoch 68/100\n",
            "15/15 [==============================] - 0s 11ms/step - loss: 1.7569e-05 - accuracy: 1.0000 - val_loss: 0.5830 - val_accuracy: 0.9500\n",
            "Epoch 69/100\n",
            "15/15 [==============================] - 0s 12ms/step - loss: 1.5969e-05 - accuracy: 1.0000 - val_loss: 0.5746 - val_accuracy: 0.9500\n",
            "Epoch 70/100\n",
            "15/15 [==============================] - 0s 12ms/step - loss: 1.6135e-05 - accuracy: 1.0000 - val_loss: 0.5783 - val_accuracy: 0.9500\n",
            "Epoch 71/100\n",
            "15/15 [==============================] - 0s 11ms/step - loss: 1.5127e-05 - accuracy: 1.0000 - val_loss: 0.5815 - val_accuracy: 0.9500\n",
            "Epoch 72/100\n",
            "15/15 [==============================] - 0s 12ms/step - loss: 1.4435e-05 - accuracy: 1.0000 - val_loss: 0.5817 - val_accuracy: 0.9500\n",
            "Epoch 73/100\n",
            "15/15 [==============================] - 0s 12ms/step - loss: 1.3730e-05 - accuracy: 1.0000 - val_loss: 0.5933 - val_accuracy: 0.9500\n",
            "Epoch 74/100\n",
            "15/15 [==============================] - 0s 13ms/step - loss: 1.3272e-05 - accuracy: 1.0000 - val_loss: 0.5953 - val_accuracy: 0.9500\n",
            "Epoch 75/100\n",
            "15/15 [==============================] - 0s 12ms/step - loss: 1.2675e-05 - accuracy: 1.0000 - val_loss: 0.5918 - val_accuracy: 0.9500\n",
            "Epoch 76/100\n",
            "15/15 [==============================] - 0s 12ms/step - loss: 1.2148e-05 - accuracy: 1.0000 - val_loss: 0.6014 - val_accuracy: 0.9500\n",
            "Epoch 77/100\n",
            "15/15 [==============================] - 0s 10ms/step - loss: 1.1778e-05 - accuracy: 1.0000 - val_loss: 0.5980 - val_accuracy: 0.9500\n",
            "Epoch 78/100\n",
            "15/15 [==============================] - 0s 10ms/step - loss: 1.1186e-05 - accuracy: 1.0000 - val_loss: 0.6040 - val_accuracy: 0.9500\n",
            "Epoch 79/100\n",
            "15/15 [==============================] - 0s 9ms/step - loss: 1.0794e-05 - accuracy: 1.0000 - val_loss: 0.6038 - val_accuracy: 0.9500\n",
            "Epoch 80/100\n",
            "15/15 [==============================] - 0s 9ms/step - loss: 1.0486e-05 - accuracy: 1.0000 - val_loss: 0.6073 - val_accuracy: 0.9500\n",
            "Epoch 81/100\n",
            "15/15 [==============================] - 0s 10ms/step - loss: 1.0032e-05 - accuracy: 1.0000 - val_loss: 0.6120 - val_accuracy: 0.9500\n",
            "Epoch 82/100\n",
            "15/15 [==============================] - 0s 10ms/step - loss: 9.6954e-06 - accuracy: 1.0000 - val_loss: 0.6117 - val_accuracy: 0.9500\n",
            "Epoch 83/100\n",
            "15/15 [==============================] - 0s 9ms/step - loss: 9.4133e-06 - accuracy: 1.0000 - val_loss: 0.6113 - val_accuracy: 0.9500\n",
            "Epoch 84/100\n",
            "15/15 [==============================] - 0s 10ms/step - loss: 8.9345e-06 - accuracy: 1.0000 - val_loss: 0.6170 - val_accuracy: 0.9500\n",
            "Epoch 85/100\n",
            "15/15 [==============================] - 0s 10ms/step - loss: 8.8028e-06 - accuracy: 1.0000 - val_loss: 0.6161 - val_accuracy: 0.9500\n",
            "Epoch 86/100\n",
            "15/15 [==============================] - 0s 10ms/step - loss: 8.3792e-06 - accuracy: 1.0000 - val_loss: 0.6258 - val_accuracy: 0.9500\n",
            "Epoch 87/100\n",
            "15/15 [==============================] - 0s 9ms/step - loss: 8.2108e-06 - accuracy: 1.0000 - val_loss: 0.6241 - val_accuracy: 0.9500\n",
            "Epoch 88/100\n",
            "15/15 [==============================] - 0s 10ms/step - loss: 8.0136e-06 - accuracy: 1.0000 - val_loss: 0.6244 - val_accuracy: 0.9500\n",
            "Epoch 89/100\n",
            "15/15 [==============================] - 0s 10ms/step - loss: 7.6307e-06 - accuracy: 1.0000 - val_loss: 0.6306 - val_accuracy: 0.9500\n",
            "Epoch 90/100\n",
            "15/15 [==============================] - 0s 10ms/step - loss: 7.3376e-06 - accuracy: 1.0000 - val_loss: 0.6200 - val_accuracy: 0.9500\n",
            "Epoch 91/100\n",
            "15/15 [==============================] - 0s 9ms/step - loss: 7.1340e-06 - accuracy: 1.0000 - val_loss: 0.6303 - val_accuracy: 0.9500\n",
            "Epoch 92/100\n",
            "15/15 [==============================] - 0s 9ms/step - loss: 6.9070e-06 - accuracy: 1.0000 - val_loss: 0.6300 - val_accuracy: 0.9500\n",
            "Epoch 93/100\n",
            "15/15 [==============================] - 0s 10ms/step - loss: 6.6448e-06 - accuracy: 1.0000 - val_loss: 0.6329 - val_accuracy: 0.9500\n",
            "Epoch 94/100\n",
            "15/15 [==============================] - 0s 10ms/step - loss: 6.4575e-06 - accuracy: 1.0000 - val_loss: 0.6354 - val_accuracy: 0.9500\n",
            "Epoch 95/100\n",
            "15/15 [==============================] - 0s 10ms/step - loss: 6.2266e-06 - accuracy: 1.0000 - val_loss: 0.6378 - val_accuracy: 0.9500\n",
            "Epoch 96/100\n",
            "15/15 [==============================] - 0s 10ms/step - loss: 6.0433e-06 - accuracy: 1.0000 - val_loss: 0.6395 - val_accuracy: 0.9500\n",
            "Epoch 97/100\n",
            "15/15 [==============================] - 0s 9ms/step - loss: 5.9027e-06 - accuracy: 1.0000 - val_loss: 0.6445 - val_accuracy: 0.9500\n",
            "Epoch 98/100\n",
            "15/15 [==============================] - 0s 9ms/step - loss: 5.6489e-06 - accuracy: 1.0000 - val_loss: 0.6412 - val_accuracy: 0.9500\n",
            "Epoch 99/100\n",
            "15/15 [==============================] - 0s 11ms/step - loss: 5.5188e-06 - accuracy: 1.0000 - val_loss: 0.6424 - val_accuracy: 0.9500\n",
            "Epoch 100/100\n",
            "15/15 [==============================] - 0s 9ms/step - loss: 5.3916e-06 - accuracy: 1.0000 - val_loss: 0.6491 - val_accuracy: 0.9500\n",
            "4/4 [==============================] - 0s 5ms/step - loss: 4.6951 - accuracy: 0.6100\n"
          ]
        },
        {
          "output_type": "execute_result",
          "data": {
            "text/plain": [
              "[4.695071220397949, 0.6100000143051147]"
            ]
          },
          "metadata": {},
          "execution_count": 11
        }
      ]
    },
    {
      "cell_type": "code",
      "source": [
        "\n",
        "import pandas as pd\n",
        "import matplotlib.pyplot as plt\n",
        "pd.DataFrame(history.history).plot(figsize = (8,5))\n",
        "plt.grid(True)\n",
        "plt.gca().set_ylim(0,1)\n",
        "\n",
        "\n",
        "\n"
      ],
      "metadata": {
        "colab": {
          "base_uri": "https://localhost:8080/",
          "height": 469
        },
        "id": "-Ijwx3PrY30n",
        "outputId": "68daa1c4-f794-4318-d333-906dc0c78daf"
      },
      "execution_count": null,
      "outputs": [
        {
          "output_type": "execute_result",
          "data": {
            "text/plain": [
              "(0.0, 1.0)"
            ]
          },
          "metadata": {},
          "execution_count": 12
        },
        {
          "output_type": "display_data",
          "data": {
            "text/plain": [
              "<Figure size 800x500 with 1 Axes>"
            ],
            "image/png": "[encoded data removed]"
          },
          "metadata": {}
        }
      ]
    }
  ]
}